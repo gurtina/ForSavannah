{
 "cells": [
  {
   "cell_type": "markdown",
   "id": "bef662fe",
   "metadata": {},
   "source": [
    "# For Savannah"
   ]
  },
  {
   "cell_type": "code",
   "execution_count": 10,
   "id": "f708d348",
   "metadata": {},
   "outputs": [],
   "source": [
    "# import modules\n",
    "import numpy as np\n",
    "import astropy.units as u\n",
    "\n",
    "# import plotting module\n",
    "import matplotlib\n",
    "import matplotlib.pyplot as plt\n",
    "from matplotlib.colors import LogNorm\n",
    "\n",
    "# import previous code\n",
    "from ReadFile import Read\n",
    "from CenterOfMass import CenterOfMass  # try COM instead of COM2\n",
    "#from ParticleProperties import ParticleProperties\n",
    "\n",
    "# for contours\n",
    "import scipy.optimize as so"
   ]
  },
  {
   "cell_type": "code",
   "execution_count": 59,
   "id": "88253fc1",
   "metadata": {},
   "outputs": [],
   "source": [
    "def AngularMomentum(filename, ptype, r_max=None):\n",
    "    '''\n",
    "        This function calculates the mean specific angular momentum for the given particle type, \n",
    "        for a given galaxy within the specified radius\n",
    "\n",
    "        PARAMETERS:\n",
    "        -----------\n",
    "            filename: 'str'\n",
    "                the name of the file containing galaxy information\n",
    "            ptype: 'int' (i.e. 1, 2, or 3)\n",
    "                the particle type (1 for halo, 2 for disk)\n",
    "            r_max: 'float'\n",
    "                the max radius of considered particles\n",
    "\n",
    "        OUTPUT:\n",
    "        -------\n",
    "            L: np.array\n",
    "                the normalized specific angular momentum vector \n",
    "                of the particles of a given type within r_max\n",
    "    '''\n",
    "    \n",
    "    # galaxy center of mass computed from disk properties. \n",
    "    galaxy_COM = CenterOfMass(filename, 2)\n",
    "    \n",
    "    # storing the COM position and COM velocity of the disk\n",
    "    r_COM = galaxy_COM.COM_P(0.1)\n",
    "    v_COM = galaxy_COM.COM_V(r_COM[0], r_COM[1], r_COM[2])\n",
    "    \n",
    "    \n",
    "    # creating a new instance of center of mass to load in the\n",
    "    # particle positions and velocities of the desired type\n",
    "    ptype_data = CenterOfMass(filename, ptype)\n",
    "    \n",
    "    # Following Lab 7 \n",
    "    # Determine positions of the desired particles relative to COM \n",
    "    x = ptype_data.x - r_COM[0].value \n",
    "    y = ptype_data.y - r_COM[1].value \n",
    "    z = ptype_data.z - r_COM[2].value \n",
    "\n",
    "    # total magnitude\n",
    "    rtot = np.sqrt(x**2 + y**2 + z**2)\n",
    "\n",
    "    # Determine velocities of desired particles relative to COM motion\n",
    "    vx = ptype_data.vx - v_COM[0].value \n",
    "    vy = ptype_data.vy - v_COM[1].value \n",
    "    vz = ptype_data.vz - v_COM[2].value \n",
    "\n",
    "    # Arrays for r and v \n",
    "    r = np.array([x,y,z]).T # transposed \n",
    "    v = np.array([vx,vy,vz]).T\n",
    "    \n",
    "    # identify the particles that are within the desired radius\n",
    "    index = np.where(rtot < r_max)\n",
    "    \n",
    "    # From RotateFrame in Lab 7:\n",
    "    # compute the specific angular momentum for all particles within the desired radius\n",
    "    L = np.sum(np.cross(r[index[0],:],v[index[0],:]), axis=0)\n",
    "    \n",
    "    # normalize the specific angular momentum vector\n",
    "    L_norm = L/np.sqrt(np.sum(L**2))\n",
    "\n",
    "    return L_norm"
   ]
  },
  {
   "cell_type": "markdown",
   "id": "f3a4ec55",
   "metadata": {},
   "source": [
    "## computing CosTheta between the MW Disk and Halo at Snap 0"
   ]
  },
  {
   "cell_type": "code",
   "execution_count": 72,
   "id": "580361ed",
   "metadata": {},
   "outputs": [
    {
     "name": "stdout",
     "output_type": "stream",
     "text": [
      "[-0.00463909 -0.00700256 -0.99996472]\n"
     ]
    }
   ],
   "source": [
    "# Mean specific angular momentum of the MW disk within 15 kpc at Snap 0\n",
    "# Using the HIGH RES FILES\n",
    "\n",
    "MW_DiskAng_Snap0 = AngularMomentum(\"MW_000_HighRes.txt\", 2, 15)\n",
    "print(MW_DiskAng_Snap0)\n",
    "# disk angular momentum is in the -z direction, as expected. \n",
    "# MW Disk is rotating CW \n"
   ]
  },
  {
   "cell_type": "code",
   "execution_count": 73,
   "id": "598d8626",
   "metadata": {},
   "outputs": [
    {
     "name": "stdout",
     "output_type": "stream",
     "text": [
      "magnitude 1.0\n"
     ]
    }
   ],
   "source": [
    "# double checking that the MW ang momentum vector is normalized\n",
    "print(\"magnitude\", np.sqrt(MW_DiskAng_Snap0[0]**2 + MW_DiskAng_Snap0[1]**2 + MW_DiskAng_Snap0[2]**2))"
   ]
  },
  {
   "cell_type": "code",
   "execution_count": 78,
   "id": "6356cde0",
   "metadata": {},
   "outputs": [
    {
     "name": "stdout",
     "output_type": "stream",
     "text": [
      "[-0.36415806  0.01643099 -0.93119221]\n"
     ]
    }
   ],
   "source": [
    "# Mean specific angular momentum of the MW halo within 20 kpc at Snap 0\n",
    "MW_HaloAng_Snap0 = AngularMomentum(\"MW_000_HighRes.txt\", 1, 20)\n",
    "print(MW_HaloAng_Snap0)\n",
    "# halo angular momentum is not perfectly aligned, but close enough"
   ]
  },
  {
   "cell_type": "code",
   "execution_count": 79,
   "id": "66b7a5b0",
   "metadata": {},
   "outputs": [
    {
     "data": {
      "text/plain": [
       "0.9327336622916371"
      ]
     },
     "execution_count": 79,
     "metadata": {},
     "output_type": "execute_result"
    }
   ],
   "source": [
    "# Cos theta for MW halo and Disk (just the dot product since already normalized the vectors)\n",
    "\n",
    "np.dot(MW_HaloAng_Snap0, MW_DiskAng_Snap0)\n",
    "\n",
    "# so pretty aligned. "
   ]
  },
  {
   "cell_type": "markdown",
   "id": "7201d4bc",
   "metadata": {},
   "source": [
    "## computing CosTheta between the M31 Disk and Halo at Snap 0"
   ]
  },
  {
   "cell_type": "code",
   "execution_count": 70,
   "id": "fae93d53",
   "metadata": {},
   "outputs": [
    {
     "name": "stdout",
     "output_type": "stream",
     "text": [
      "[-0.41246108 -0.77011987 -0.48661201]\n"
     ]
    }
   ],
   "source": [
    "# Mean specific angular momentum of the M31 disk within 15 kpc at Snap 0\n",
    "M31_DiskAng_Snap0 = AngularMomentum(\"M31_000_HighRes.txt\", 2, 15)\n",
    "print(M31_DiskAng_Snap0)\n",
    "# M31 disk is not aligned with z axis, as expected. "
   ]
  },
  {
   "cell_type": "code",
   "execution_count": 75,
   "id": "99a15244",
   "metadata": {},
   "outputs": [
    {
     "name": "stdout",
     "output_type": "stream",
     "text": [
      "[-0.53494497 -0.80396126 -0.25976947]\n"
     ]
    }
   ],
   "source": [
    "# Mean specific angular momentum of the M31 halo within 20 kpc at Snap 0\n",
    "M31_HaloAng_Snap0 = AngularMomentum(\"M31_000_HighRes.txt\", 1, 20)\n",
    "print(M31_HaloAng_Snap0)\n",
    "# halo ang mometum is not that far off the disk"
   ]
  },
  {
   "cell_type": "code",
   "execution_count": 77,
   "id": "adc5f904",
   "metadata": {},
   "outputs": [
    {
     "data": {
      "text/plain": [
       "0.9661974596409755"
      ]
     },
     "execution_count": 77,
     "metadata": {},
     "output_type": "execute_result"
    }
   ],
   "source": [
    "# Cos theta for M31 halo and Disk\n",
    "\n",
    "np.dot(M31_HaloAng_Snap0, M31_DiskAng_Snap0)\n",
    "\n",
    "# so M31 is starting pretty aligned"
   ]
  },
  {
   "cell_type": "code",
   "execution_count": null,
   "id": "85fefe96",
   "metadata": {},
   "outputs": [],
   "source": []
  }
 ],
 "metadata": {
  "kernelspec": {
   "display_name": "Python 3 (ipykernel)",
   "language": "python",
   "name": "python3"
  },
  "language_info": {
   "codemirror_mode": {
    "name": "ipython",
    "version": 3
   },
   "file_extension": ".py",
   "mimetype": "text/x-python",
   "name": "python",
   "nbconvert_exporter": "python",
   "pygments_lexer": "ipython3",
   "version": "3.9.13"
  }
 },
 "nbformat": 4,
 "nbformat_minor": 5
}
